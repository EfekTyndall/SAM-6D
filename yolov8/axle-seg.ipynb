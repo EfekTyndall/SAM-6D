{
 "cells": [
  {
   "cell_type": "code",
   "execution_count": 1,
   "metadata": {},
   "outputs": [],
   "source": [
    "from ultralytics import YOLO\n",
    "import time\n",
    "import matplotlib.pyplot as plt\n",
    "import numpy as np"
   ]
  },
  {
   "cell_type": "code",
   "execution_count": 2,
   "metadata": {},
   "outputs": [],
   "source": [
    "# Load your YOLO segmentation model\n",
    "model = YOLO(\"/home/martyn/Thesis/YOLOv8/axle_seg.pt\")"
   ]
  },
  {
   "cell_type": "code",
   "execution_count": 44,
   "metadata": {},
   "outputs": [
    {
     "name": "stdout",
     "output_type": "stream",
     "text": [
      "\n",
      "image 1/1 /home/martyn/Thesis/pose-estimation/data/scenes/scenes_axle/scenes_single/scene_05/rgb.png: 480x640 1 Axle, 7.6ms\n",
      "Speed: 12.6ms preprocess, 7.6ms inference, 1.5ms postprocess per image at shape (1, 3, 480, 640)\n",
      "Inference Time GPU (s): 0.03590226173400879\n"
     ]
    }
   ],
   "source": [
    "# Path to your input image\n",
    "image_path = \"/home/martyn/Thesis/pose-estimation/data/scenes/scenes_axle/scenes_single/scene_05/rgb.png\"\n",
    "\n",
    "# Perform inference\n",
    "start_time = time.time()\n",
    "results = model.predict(image_path, imgsz=[480,640], device='cuda:0')\n",
    "inference_time = time.time() - start_time\n",
    "\n",
    "print (\"Inference Time GPU (s):\", inference_time)"
   ]
  },
  {
   "cell_type": "code",
   "execution_count": 45,
   "metadata": {},
   "outputs": [],
   "source": [
    "result = results[0]\n",
    "annotated_image = result.plot()\n",
    "\n",
    "# Save the annotated image with the same size as the original\n",
    "def save_annotated_image(image, save_path=\"output.png\"):\n",
    "    dpi = 100  # Dots per inch\n",
    "    height, width, _ = image.shape\n",
    "\n",
    "    # Create a figure that matches the image dimensions\n",
    "    fig = plt.figure(figsize=(width / dpi, height / dpi), dpi=dpi)\n",
    "    ax = fig.add_axes([0, 0, 1, 1])  # Fill the entire canvas\n",
    "    ax.imshow(image)\n",
    "    ax.axis('off')\n",
    "\n",
    "    # Save the image\n",
    "    plt.savefig(save_path, dpi=dpi, bbox_inches=\"tight\", pad_inches=0)\n",
    "    plt.close(fig)\n",
    "\n",
    "# Call the function to save\n",
    "segmentation_path = \"/home/martyn/Thesis/pose-estimation/data/scenes/scenes_axle/scenes_single/scene_05/segmentation_result.png\"\n",
    "save_annotated_image(annotated_image, save_path=segmentation_path)"
   ]
  },
  {
   "cell_type": "code",
   "execution_count": 46,
   "metadata": {},
   "outputs": [
    {
     "name": "stdout",
     "output_type": "stream",
     "text": [
      "Bounding Box:\n",
      " tensor([[288.2124, 278.7726, 564.2031, 398.4976]], device='cuda:0')\n",
      "Confidence Score\n",
      " tensor([0.9121], device='cuda:0')\n"
     ]
    }
   ],
   "source": [
    "# Bounding Box\n",
    "boxes = result.boxes\n",
    "print(\"Bounding Box:\\n\", boxes.xywh)\n",
    "\n",
    "#Confidence Score\n",
    "conf = boxes.conf\n",
    "print(\"Confidence Score\\n\", conf)"
   ]
  },
  {
   "cell_type": "code",
   "execution_count": 47,
   "metadata": {},
   "outputs": [
    {
     "name": "stdout",
     "output_type": "stream",
     "text": [
      "Mask Data:\n",
      " tensor([[[0., 0., 0.,  ..., 0., 0., 0.],\n",
      "         [0., 0., 0.,  ..., 0., 0., 0.],\n",
      "         [0., 0., 0.,  ..., 0., 0., 0.],\n",
      "         ...,\n",
      "         [0., 0., 0.,  ..., 0., 0., 0.],\n",
      "         [0., 0., 0.,  ..., 0., 0., 0.],\n",
      "         [0., 0., 0.,  ..., 0., 0., 0.]]], device='cuda:0')\n",
      "Mask Size. (480, 640)\n"
     ]
    }
   ],
   "source": [
    "# Masks\n",
    "mask_data = result.masks.data\n",
    "mask_size = result.masks.orig_shape\n",
    "print('Mask Data:\\n', mask_data)\n",
    "print(\"Mask Size.\", mask_size)"
   ]
  },
  {
   "cell_type": "code",
   "execution_count": 48,
   "metadata": {},
   "outputs": [
    {
     "data": {
      "image/png": "[encoded data removed]",
      "text/plain": [
       "<Figure size 640x480 with 1 Axes>"
      ]
     },
     "metadata": {},
     "output_type": "display_data"
    }
   ],
   "source": [
    "# Plot each mask\n",
    "for i, mask in enumerate(result.masks.data):\n",
    "    # Convert the mask to binary format\n",
    "    binary_mask = mask.cpu().numpy().astype(np.uint8)\n",
    "\n",
    "    # Plot the binary mask\n",
    "    plt.figure()\n",
    "    plt.title(f\"Mask {i}\")\n",
    "    plt.imshow(binary_mask, cmap=\"gray\")\n",
    "    plt.axis(\"off\")\n",
    "    plt.show()"
   ]
  },
  {
   "cell_type": "code",
   "execution_count": 49,
   "metadata": {},
   "outputs": [],
   "source": [
    "# Initialize an empty combined mask with the same shape as the masks\n",
    "height, width = result.masks.data[0].shape[-2:]\n",
    "combined_mask = np.zeros((height, width), dtype=np.uint8)\n",
    "\n",
    "# Combine all masks for the same object (e.g., masks with the same category_id)\n",
    "for mask in result.masks.data:\n",
    "    binary_mask = mask.cpu().numpy().astype(np.uint8)\n",
    "    combined_mask = np.logical_or(combined_mask, binary_mask).astype(np.uint8)\n",
    "\n",
    "# Save the combined mask\n",
    "def save_combined_mask(mask, save_path=\"combined_mask.png\"):\n",
    "    dpi = 100  # Dots per inch\n",
    "    height, width = mask.shape\n",
    "\n",
    "    # Create a figure that matches the mask dimensions\n",
    "    fig = plt.figure(figsize=(width / dpi, height / dpi), dpi=dpi)\n",
    "    ax = fig.add_axes([0, 0, 1, 1])  # Fill the entire canvas\n",
    "    ax.imshow(mask, cmap=\"gray\")\n",
    "    ax.axis(\"off\")\n",
    "\n",
    "    # Save the figure\n",
    "    plt.savefig(save_path, dpi=dpi, bbox_inches=\"tight\", pad_inches=0)\n",
    "    plt.close(fig)\n",
    "\n",
    "# Call the function to save the mask\n",
    "mask_path = \"/home/martyn/Thesis/pose-estimation/data/scenes/scenes_axle/scenes_single/scene_05/mask_yolo.png\"\n",
    "save_combined_mask(combined_mask, save_path=mask_path)"
   ]
  },
  {
   "cell_type": "code",
   "execution_count": 50,
   "metadata": {},
   "outputs": [
    {
     "name": "stdout",
     "output_type": "stream",
     "text": [
      "Results saved to yolo_segmentation_coco_one_line.json\n"
     ]
    }
   ],
   "source": [
    "# Convert to json\n",
    "import pycocotools.mask as cocomask\n",
    "import json\n",
    "\n",
    "# Prepare the output data\n",
    "output_data = []\n",
    "scene_id = 0\n",
    "image_id = 0\n",
    "\n",
    "for result in results:\n",
    "    for i, box in enumerate(result.boxes):\n",
    "        # Get segmentation mask\n",
    "        mask = result.masks.data[i].cpu().numpy().astype(np.uint8)  # Get binary mask\n",
    "\n",
    "        # Encode mask as COCO RLE\n",
    "        rle = cocomask.encode(np.asfortranarray(mask))\n",
    "        rle[\"counts\"] = rle[\"counts\"].decode(\"ascii\")\n",
    "\n",
    "        # Get bounding box [x, y, width, height]\n",
    "        bbox = box.xywh.cpu().numpy().tolist()\n",
    "\n",
    "        # Append data\n",
    "        output_data.append({\n",
    "            \"scene_id\": scene_id,\n",
    "            \"image_id\": image_id,\n",
    "            \"category_id\": int(box.cls),  # Class ID\n",
    "            \"bbox\": bbox,\n",
    "            \"score\": float(box.conf),  # Confidence score\n",
    "            \"segmentation\": {\n",
    "                \"size\": [mask.shape[0], mask.shape[1]],  # [height, width]\n",
    "                \"counts\": rle[\"counts\"]\n",
    "            }\n",
    "        })\n",
    "\n",
    "# Save the output to a JSON file in one line\n",
    "output_file = \"yolo_segmentation_coco_one_line.json\"\n",
    "with open(output_file, \"w\") as f:\n",
    "    #json.dump(output_data, f, separators=(\",\", \":\"))  # Compact JSON with no spaces\n",
    "    json.dump(output_data, f, indent=4)\n",
    "\n",
    "print(f\"Results saved to {output_file}\")"
   ]
  }
 ],
 "metadata": {
  "kernelspec": {
   "display_name": "sam6d",
   "language": "python",
   "name": "python3"
  },
  "language_info": {
   "codemirror_mode": {
    "name": "ipython",
    "version": 3
   },
   "file_extension": ".py",
   "mimetype": "text/x-python",
   "name": "python",
   "nbconvert_exporter": "python",
   "pygments_lexer": "ipython3",
   "version": "3.9.20"
  }
 },
 "nbformat": 4,
 "nbformat_minor": 2
}
